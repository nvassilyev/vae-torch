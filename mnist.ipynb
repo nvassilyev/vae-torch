{
 "cells": [
  {
   "cell_type": "code",
   "execution_count": 1,
   "metadata": {},
   "outputs": [],
   "source": [
    "import os\n",
    "import os.path\n",
    "import matplotlib.pyplot as plt\n",
    "import matplotlib.image\n",
    "import pandas as pd\n",
    "import numpy as np\n",
    "from scipy.stats import norm\n",
    "import scipy.io\n",
    "import scipy.stats\n",
    "import torch \n",
    "import random\n",
    "from torch import nn\n",
    "from torch.distributions.normal import Normal\n",
    "from functools import partial\n",
    "from tqdm import trange, tqdm_notebook\n",
    "from urllib.request import urlretrieve\n",
    "import gzip\n",
    "import struct\n",
    "import array"
   ]
  },
  {
   "cell_type": "code",
   "execution_count": 2,
   "metadata": {},
   "outputs": [
    {
     "data": {
      "image/png": "[encoded data removed]",
      "text/plain": [
       "<Figure size 640x480 with 1 Axes>"
      ]
     },
     "metadata": {},
     "output_type": "display_data"
    }
   ],
   "source": [
    "def download(url, filename):\n",
    "    if not os.path.exists('data'):\n",
    "        os.makedirs('data')\n",
    "    out_file = os.path.join('data', filename)\n",
    "    if not os.path.isfile(out_file):\n",
    "        urlretrieve(url, out_file)\n",
    "\n",
    "\n",
    "def fashion_mnist():\n",
    "    base_url = 'http://fashion-mnist.s3-website.eu-central-1.amazonaws.com/'\n",
    "\n",
    "    def parse_labels(filename):\n",
    "        with gzip.open(filename, 'rb') as fh:\n",
    "            magic, num_data = struct.unpack(\">II\", fh.read(8))\n",
    "            return np.array(array.array(\"B\", fh.read()), dtype=np.uint8)\n",
    "\n",
    "    def parse_images(filename):\n",
    "        with gzip.open(filename, 'rb') as fh:\n",
    "            magic, num_data, rows, cols = struct.unpack(\">IIII\", fh.read(16))\n",
    "            return np.array(array.array(\"B\", fh.read()), dtype=np.uint8).reshape(num_data, rows, cols)\n",
    "\n",
    "    for filename in ['train-images-idx3-ubyte.gz',\n",
    "                     'train-labels-idx1-ubyte.gz',\n",
    "                     't10k-images-idx3-ubyte.gz',\n",
    "                     't10k-labels-idx1-ubyte.gz']:\n",
    "        download(base_url + filename, filename)\n",
    "\n",
    "    train_images = parse_images('data/train-images-idx3-ubyte.gz')\n",
    "    train_labels = parse_labels('data/train-labels-idx1-ubyte.gz')\n",
    "    test_images = parse_images('data/t10k-images-idx3-ubyte.gz')\n",
    "    test_labels = parse_labels('data/t10k-labels-idx1-ubyte.gz')\n",
    "    \n",
    "    # Remove the data point that cause log(0)\n",
    "    remove = (14926, 20348, 36487, 45128, 50945, 51163, 55023)\n",
    "    train_images = np.delete(train_images,remove, axis=0)\n",
    "    train_labels = np.delete(train_labels, remove, axis=0)\n",
    "    return train_images, train_labels, test_images[:1000], test_labels[:1000]\n",
    "\n",
    "\n",
    "def load_fashion_mnist():\n",
    "    partial_flatten = lambda x: np.reshape(x, (x.shape[0], np.prod(x.shape[1:])))\n",
    "    one_hot = lambda x, k: np.array(x[:, None] == np.arange(k)[None, :], dtype=int)\n",
    "    train_images, train_labels, test_images, test_labels =  fashion_mnist()\n",
    "    train_images = (partial_flatten(train_images) / 255.0 > .5).astype(float)\n",
    "    test_images = (partial_flatten(test_images) / 255.0 > .5).astype(float)\n",
    "    train_images, test_images = np.float32(train_images), np.float32(test_images)\n",
    "    train_labels = torch.tensor(one_hot(train_labels, 10))\n",
    "    test_labels = torch.tensor(one_hot(test_labels, 10))\n",
    "    N_data = train_images.shape[0]\n",
    "\n",
    "    return N_data, train_images, train_labels, test_images, test_labels\n",
    "\n",
    "N_data, train_images, train_labels, test_images, test_labels = load_fashion_mnist()\n",
    "\n",
    "def plot_images(images, ims_per_row=5, padding=5, dimensions=(28, 28),\n",
    "                cmap=matplotlib.cm.binary, vmin=0., vmax=1.):\n",
    "    \"\"\"Images should be a (N_images x pixels) matrix.\"\"\"\n",
    "    fig = plt.figure(1)\n",
    "    fig.clf()\n",
    "    ax = fig.add_subplot(111)\n",
    "\n",
    "    N_images = images.shape[0]\n",
    "    N_rows = np.int32(np.ceil(float(N_images) / ims_per_row))\n",
    "    pad_value = vmin\n",
    "    concat_images = np.full(((dimensions[0] + padding) * N_rows + padding,\n",
    "                             (dimensions[1] + padding) * ims_per_row + padding), pad_value)\n",
    "    for i in range(N_images):\n",
    "        cur_image = np.reshape(images[i, :], dimensions)\n",
    "        row_ix = i // ims_per_row\n",
    "        col_ix = i % ims_per_row\n",
    "        row_start = padding + (padding + dimensions[0]) * row_ix\n",
    "        col_start = padding + (padding + dimensions[1]) * col_ix\n",
    "        concat_images[row_start: row_start + dimensions[0],\n",
    "                      col_start: col_start + dimensions[1]] = cur_image\n",
    "        cax = ax.matshow(concat_images, cmap=cmap, vmin=vmin, vmax=vmax)\n",
    "        plt.xticks(np.array([]))\n",
    "        plt.yticks(np.array([]))\n",
    "    \n",
    "    plt.plot()\n",
    "\n",
    "plot_images(train_images[:10, :])"
   ]
  },
  {
   "cell_type": "code",
   "execution_count": 6,
   "metadata": {},
   "outputs": [
    {
     "name": "stdout",
     "output_type": "stream",
     "text": [
      "Optimizing variational parameters...\n"
     ]
    },
    {
     "name": "stderr",
     "output_type": "stream",
     "text": [
      "  0%|          | 13/5000 [00:00<00:39, 127.75it/s]"
     ]
    },
    {
     "name": "stdout",
     "output_type": "stream",
     "text": [
      "Iteration 0 lower bound -677.1807250976562\n"
     ]
    },
    {
     "name": "stderr",
     "output_type": "stream",
     "text": [
      "  3%|▎         | 126/5000 [00:00<00:35, 137.60it/s]"
     ]
    },
    {
     "name": "stdout",
     "output_type": "stream",
     "text": [
      "Iteration 100 lower bound -335.6181640625\n"
     ]
    },
    {
     "name": "stderr",
     "output_type": "stream",
     "text": [
      "  5%|▍         | 229/5000 [00:01<00:34, 138.86it/s]"
     ]
    },
    {
     "name": "stdout",
     "output_type": "stream",
     "text": [
      "Iteration 200 lower bound -315.5287780761719\n"
     ]
    },
    {
     "name": "stderr",
     "output_type": "stream",
     "text": [
      "  6%|▋         | 316/5000 [00:02<00:33, 138.31it/s]"
     ]
    },
    {
     "name": "stdout",
     "output_type": "stream",
     "text": [
      "Iteration 300 lower bound -256.6965637207031\n"
     ]
    },
    {
     "name": "stderr",
     "output_type": "stream",
     "text": [
      "  9%|▊         | 433/5000 [00:02<00:24, 184.97it/s]"
     ]
    },
    {
     "name": "stdout",
     "output_type": "stream",
     "text": [
      "Iteration 400 lower bound -250.70858764648438\n"
     ]
    },
    {
     "name": "stderr",
     "output_type": "stream",
     "text": [
      " 11%|█         | 532/5000 [00:03<00:23, 190.87it/s]"
     ]
    },
    {
     "name": "stdout",
     "output_type": "stream",
     "text": [
      "Iteration 500 lower bound -211.33131408691406\n"
     ]
    },
    {
     "name": "stderr",
     "output_type": "stream",
     "text": [
      " 13%|█▎        | 632/5000 [00:03<00:22, 191.78it/s]"
     ]
    },
    {
     "name": "stdout",
     "output_type": "stream",
     "text": [
      "Iteration 600 lower bound -236.55601501464844\n"
     ]
    },
    {
     "name": "stderr",
     "output_type": "stream",
     "text": [
      " 15%|█▍        | 731/5000 [00:04<00:23, 185.36it/s]"
     ]
    },
    {
     "name": "stdout",
     "output_type": "stream",
     "text": [
      "Iteration 700 lower bound -243.41334533691406\n"
     ]
    },
    {
     "name": "stderr",
     "output_type": "stream",
     "text": [
      " 16%|█▋        | 823/5000 [00:05<00:24, 169.98it/s]"
     ]
    },
    {
     "name": "stdout",
     "output_type": "stream",
     "text": [
      "Iteration 800 lower bound -223.17779541015625\n"
     ]
    },
    {
     "name": "stderr",
     "output_type": "stream",
     "text": [
      " 19%|█▊        | 927/5000 [00:05<00:24, 166.73it/s]"
     ]
    },
    {
     "name": "stdout",
     "output_type": "stream",
     "text": [
      "Iteration 900 lower bound -220.7924346923828\n"
     ]
    },
    {
     "name": "stderr",
     "output_type": "stream",
     "text": [
      " 21%|██        | 1033/5000 [00:06<00:23, 170.97it/s]"
     ]
    },
    {
     "name": "stdout",
     "output_type": "stream",
     "text": [
      "Iteration 1000 lower bound -195.5063934326172\n"
     ]
    },
    {
     "name": "stderr",
     "output_type": "stream",
     "text": [
      " 22%|██▏       | 1121/5000 [00:06<00:23, 168.49it/s]"
     ]
    },
    {
     "name": "stdout",
     "output_type": "stream",
     "text": [
      "Iteration 1100 lower bound -205.97879028320312\n"
     ]
    },
    {
     "name": "stderr",
     "output_type": "stream",
     "text": [
      " 25%|██▍       | 1229/5000 [00:07<00:21, 171.76it/s]"
     ]
    },
    {
     "name": "stdout",
     "output_type": "stream",
     "text": [
      "Iteration 1200 lower bound -202.64047241210938\n"
     ]
    },
    {
     "name": "stderr",
     "output_type": "stream",
     "text": [
      " 26%|██▋       | 1319/5000 [00:07<00:21, 172.47it/s]"
     ]
    },
    {
     "name": "stdout",
     "output_type": "stream",
     "text": [
      "Iteration 1300 lower bound -209.2941436767578\n"
     ]
    },
    {
     "name": "stderr",
     "output_type": "stream",
     "text": [
      " 29%|██▊       | 1427/5000 [00:08<00:20, 171.64it/s]"
     ]
    },
    {
     "name": "stdout",
     "output_type": "stream",
     "text": [
      "Iteration 1400 lower bound -187.87664794921875\n"
     ]
    },
    {
     "name": "stderr",
     "output_type": "stream",
     "text": [
      " 31%|███       | 1535/5000 [00:09<00:20, 171.49it/s]"
     ]
    },
    {
     "name": "stdout",
     "output_type": "stream",
     "text": [
      "Iteration 1500 lower bound -186.1421356201172\n"
     ]
    },
    {
     "name": "stderr",
     "output_type": "stream",
     "text": [
      " 32%|███▎      | 1625/5000 [00:09<00:19, 171.07it/s]"
     ]
    },
    {
     "name": "stdout",
     "output_type": "stream",
     "text": [
      "Iteration 1600 lower bound -177.45916748046875\n"
     ]
    },
    {
     "name": "stderr",
     "output_type": "stream",
     "text": [
      " 35%|███▍      | 1733/5000 [00:10<00:19, 171.03it/s]"
     ]
    },
    {
     "name": "stdout",
     "output_type": "stream",
     "text": [
      "Iteration 1700 lower bound -184.08775329589844\n"
     ]
    },
    {
     "name": "stderr",
     "output_type": "stream",
     "text": [
      " 36%|███▋      | 1823/5000 [00:10<00:18, 170.89it/s]"
     ]
    },
    {
     "name": "stdout",
     "output_type": "stream",
     "text": [
      "Iteration 1800 lower bound -182.44459533691406\n"
     ]
    },
    {
     "name": "stderr",
     "output_type": "stream",
     "text": [
      " 39%|███▊      | 1931/5000 [00:11<00:17, 170.97it/s]"
     ]
    },
    {
     "name": "stdout",
     "output_type": "stream",
     "text": [
      "Iteration 1900 lower bound -178.04019165039062\n"
     ]
    },
    {
     "name": "stderr",
     "output_type": "stream",
     "text": [
      " 40%|████      | 2021/5000 [00:12<00:17, 171.02it/s]"
     ]
    },
    {
     "name": "stdout",
     "output_type": "stream",
     "text": [
      "Iteration 2000 lower bound -178.5480499267578\n"
     ]
    },
    {
     "name": "stderr",
     "output_type": "stream",
     "text": [
      " 43%|████▎     | 2129/5000 [00:12<00:16, 171.10it/s]"
     ]
    },
    {
     "name": "stdout",
     "output_type": "stream",
     "text": [
      "Iteration 2100 lower bound -196.9189453125\n"
     ]
    },
    {
     "name": "stderr",
     "output_type": "stream",
     "text": [
      " 44%|████▍     | 2219/5000 [00:13<00:16, 170.84it/s]"
     ]
    },
    {
     "name": "stdout",
     "output_type": "stream",
     "text": [
      "Iteration 2200 lower bound -182.3472442626953\n"
     ]
    },
    {
     "name": "stderr",
     "output_type": "stream",
     "text": [
      " 47%|████▋     | 2327/5000 [00:13<00:15, 171.06it/s]"
     ]
    },
    {
     "name": "stdout",
     "output_type": "stream",
     "text": [
      "Iteration 2300 lower bound -186.20816040039062\n"
     ]
    },
    {
     "name": "stderr",
     "output_type": "stream",
     "text": [
      " 49%|████▊     | 2435/5000 [00:14<00:15, 170.14it/s]"
     ]
    },
    {
     "name": "stdout",
     "output_type": "stream",
     "text": [
      "Iteration 2400 lower bound -175.3004913330078\n"
     ]
    },
    {
     "name": "stderr",
     "output_type": "stream",
     "text": [
      " 50%|█████     | 2525/5000 [00:14<00:14, 170.86it/s]"
     ]
    },
    {
     "name": "stdout",
     "output_type": "stream",
     "text": [
      "Iteration 2500 lower bound -163.2860107421875\n"
     ]
    },
    {
     "name": "stderr",
     "output_type": "stream",
     "text": [
      " 53%|█████▎    | 2633/5000 [00:15<00:13, 169.78it/s]"
     ]
    },
    {
     "name": "stdout",
     "output_type": "stream",
     "text": [
      "Iteration 2600 lower bound -194.41253662109375\n"
     ]
    },
    {
     "name": "stderr",
     "output_type": "stream",
     "text": [
      " 54%|█████▍    | 2723/5000 [00:16<00:13, 170.15it/s]"
     ]
    },
    {
     "name": "stdout",
     "output_type": "stream",
     "text": [
      "Iteration 2700 lower bound -176.98048400878906\n"
     ]
    },
    {
     "name": "stderr",
     "output_type": "stream",
     "text": [
      " 57%|█████▋    | 2831/5000 [00:16<00:12, 170.02it/s]"
     ]
    },
    {
     "name": "stdout",
     "output_type": "stream",
     "text": [
      "Iteration 2800 lower bound -163.8749542236328\n"
     ]
    },
    {
     "name": "stderr",
     "output_type": "stream",
     "text": [
      " 58%|█████▊    | 2921/5000 [00:17<00:12, 169.15it/s]"
     ]
    },
    {
     "name": "stdout",
     "output_type": "stream",
     "text": [
      "Iteration 2900 lower bound -178.9228973388672\n"
     ]
    },
    {
     "name": "stderr",
     "output_type": "stream",
     "text": [
      " 60%|██████    | 3021/5000 [00:18<00:13, 142.80it/s]"
     ]
    },
    {
     "name": "stdout",
     "output_type": "stream",
     "text": [
      "Iteration 3000 lower bound -177.0766143798828\n"
     ]
    },
    {
     "name": "stderr",
     "output_type": "stream",
     "text": [
      " 62%|██████▏   | 3116/5000 [00:18<00:14, 133.21it/s]"
     ]
    },
    {
     "name": "stdout",
     "output_type": "stream",
     "text": [
      "Iteration 3100 lower bound -168.46568298339844\n"
     ]
    },
    {
     "name": "stderr",
     "output_type": "stream",
     "text": [
      " 65%|██████▍   | 3230/5000 [00:19<00:12, 146.96it/s]"
     ]
    },
    {
     "name": "stdout",
     "output_type": "stream",
     "text": [
      "Iteration 3200 lower bound -190.1876220703125\n"
     ]
    },
    {
     "name": "stderr",
     "output_type": "stream",
     "text": [
      " 66%|██████▌   | 3312/5000 [00:20<00:11, 149.45it/s]"
     ]
    },
    {
     "name": "stdout",
     "output_type": "stream",
     "text": [
      "Iteration 3300 lower bound -197.91490173339844\n"
     ]
    },
    {
     "name": "stderr",
     "output_type": "stream",
     "text": [
      " 68%|██████▊   | 3421/5000 [00:20<00:11, 133.69it/s]"
     ]
    },
    {
     "name": "stdout",
     "output_type": "stream",
     "text": [
      "Iteration 3400 lower bound -178.6107177734375\n"
     ]
    },
    {
     "name": "stderr",
     "output_type": "stream",
     "text": [
      " 70%|███████   | 3520/5000 [00:21<00:10, 137.96it/s]"
     ]
    },
    {
     "name": "stdout",
     "output_type": "stream",
     "text": [
      "Iteration 3500 lower bound -169.05535888671875\n"
     ]
    },
    {
     "name": "stderr",
     "output_type": "stream",
     "text": [
      " 73%|███████▎  | 3631/5000 [00:22<00:09, 149.15it/s]"
     ]
    },
    {
     "name": "stdout",
     "output_type": "stream",
     "text": [
      "Iteration 3600 lower bound -179.8412322998047\n"
     ]
    },
    {
     "name": "stderr",
     "output_type": "stream",
     "text": [
      " 74%|███████▍  | 3725/5000 [00:23<00:09, 136.27it/s]"
     ]
    },
    {
     "name": "stdout",
     "output_type": "stream",
     "text": [
      "Iteration 3700 lower bound -166.71290588378906\n"
     ]
    },
    {
     "name": "stderr",
     "output_type": "stream",
     "text": [
      " 76%|███████▋  | 3820/5000 [00:23<00:09, 129.59it/s]"
     ]
    },
    {
     "name": "stdout",
     "output_type": "stream",
     "text": [
      "Iteration 3800 lower bound -180.4568328857422\n"
     ]
    },
    {
     "name": "stderr",
     "output_type": "stream",
     "text": [
      " 79%|███████▊  | 3932/5000 [00:24<00:07, 149.78it/s]"
     ]
    },
    {
     "name": "stdout",
     "output_type": "stream",
     "text": [
      "Iteration 3900 lower bound -169.05633544921875\n"
     ]
    },
    {
     "name": "stderr",
     "output_type": "stream",
     "text": [
      " 81%|████████  | 4027/5000 [00:25<00:06, 145.55it/s]"
     ]
    },
    {
     "name": "stdout",
     "output_type": "stream",
     "text": [
      "Iteration 4000 lower bound -180.58355712890625\n"
     ]
    },
    {
     "name": "stderr",
     "output_type": "stream",
     "text": [
      " 82%|████████▏ | 4122/5000 [00:25<00:06, 139.47it/s]"
     ]
    },
    {
     "name": "stdout",
     "output_type": "stream",
     "text": [
      "Iteration 4100 lower bound -176.66287231445312\n"
     ]
    },
    {
     "name": "stderr",
     "output_type": "stream",
     "text": [
      " 84%|████████▍ | 4215/5000 [00:26<00:05, 131.72it/s]"
     ]
    },
    {
     "name": "stdout",
     "output_type": "stream",
     "text": [
      "Iteration 4200 lower bound -186.2332000732422\n"
     ]
    },
    {
     "name": "stderr",
     "output_type": "stream",
     "text": [
      " 87%|████████▋ | 4329/5000 [00:27<00:04, 144.74it/s]"
     ]
    },
    {
     "name": "stdout",
     "output_type": "stream",
     "text": [
      "Iteration 4300 lower bound -175.8062744140625\n"
     ]
    },
    {
     "name": "stderr",
     "output_type": "stream",
     "text": [
      " 88%|████████▊ | 4424/5000 [00:27<00:03, 151.73it/s]"
     ]
    },
    {
     "name": "stdout",
     "output_type": "stream",
     "text": [
      "Iteration 4400 lower bound -164.21987915039062\n"
     ]
    },
    {
     "name": "stderr",
     "output_type": "stream",
     "text": [
      " 90%|█████████ | 4518/5000 [00:28<00:03, 136.84it/s]"
     ]
    },
    {
     "name": "stdout",
     "output_type": "stream",
     "text": [
      "Iteration 4500 lower bound -167.34397888183594\n"
     ]
    },
    {
     "name": "stderr",
     "output_type": "stream",
     "text": [
      " 92%|█████████▏| 4614/5000 [00:29<00:02, 130.29it/s]"
     ]
    },
    {
     "name": "stdout",
     "output_type": "stream",
     "text": [
      "Iteration 4600 lower bound -166.06805419921875\n"
     ]
    },
    {
     "name": "stderr",
     "output_type": "stream",
     "text": [
      " 95%|█████████▍| 4727/5000 [00:30<00:01, 149.57it/s]"
     ]
    },
    {
     "name": "stdout",
     "output_type": "stream",
     "text": [
      "Iteration 4700 lower bound -169.3477020263672\n"
     ]
    },
    {
     "name": "stderr",
     "output_type": "stream",
     "text": [
      " 96%|█████████▋| 4821/5000 [00:30<00:01, 146.02it/s]"
     ]
    },
    {
     "name": "stdout",
     "output_type": "stream",
     "text": [
      "Iteration 4800 lower bound -170.58480834960938\n"
     ]
    },
    {
     "name": "stderr",
     "output_type": "stream",
     "text": [
      " 98%|█████████▊| 4917/5000 [00:31<00:00, 139.35it/s]"
     ]
    },
    {
     "name": "stdout",
     "output_type": "stream",
     "text": [
      "Iteration 4900 lower bound -168.1946258544922\n"
     ]
    },
    {
     "name": "stderr",
     "output_type": "stream",
     "text": [
      "100%|██████████| 5000/5000 [00:32<00:00, 155.83it/s]"
     ]
    },
    {
     "name": "stdout",
     "output_type": "stream",
     "text": [
      "Iteration 5000 lower bound -198.8996124267578\n"
     ]
    },
    {
     "name": "stderr",
     "output_type": "stream",
     "text": [
      "\n"
     ]
    }
   ],
   "source": [
    "from torch.utils.data import TensorDataset, DataLoader\n",
    "from vae import diag_gaussian_log_density, diag_gaussian_samples, diag_gaussian_logpdf, log_prior, batch_elbo\n",
    "# Define a specific VAE for MNIST\n",
    "\n",
    "data_dimension = 28*28\n",
    "latent_dimension = 20\n",
    "\n",
    "# Define the recognition network.\n",
    "class RecognitionNet(nn.Module):\n",
    "    def __init__(self, data_dimension, latent_dimension):\n",
    "        super().__init__()\n",
    "        self.net = nn.Sequential(\n",
    "            nn.Linear(data_dimension, 150),\n",
    "            nn.ReLU(),\n",
    "            nn.Linear(150, 50),\n",
    "            nn.ReLU()\n",
    "        )\n",
    "        self.mean_net = nn.Linear(50, latent_dimension) # Output mean of q(z)\n",
    "        self.std_net = nn.Linear(50, latent_dimension) # Output log_std of q(z)\n",
    "        \n",
    "    def forward(self, x):\n",
    "        interm = self.net(x)\n",
    "        mean, log_std = self.mean_net(interm), self.std_net(interm)\n",
    "        return mean, log_std\n",
    "\n",
    "recognition_net = RecognitionNet(data_dimension, latent_dimension) \n",
    "# Define the decoder network.\n",
    "class Decoder(nn.Module):\n",
    "    def __init__(self, latent_dimension, data_dimension):\n",
    "        super().__init__()\n",
    "        self.net = nn.Sequential(\n",
    "            nn.Linear(latent_dimension, 150),\n",
    "            nn.ReLU(),\n",
    "            nn.Linear(150, 50),\n",
    "            nn.ReLU(),\n",
    "            nn.Linear(50, data_dimension)\n",
    "        )\n",
    "    def forward(self, x):\n",
    "        return self.net(x)\n",
    "\n",
    "decoder_net = Decoder(latent_dimension, data_dimension) \n",
    "\n",
    "# Set up log likelihood function.\n",
    "def bernoulli_logpdf(logits, x):\n",
    "    \"\"\"Bernoulli log pdf of data x given logits.\"\"\"\n",
    "    return -torch.sum(torch.logaddexp(torch.tensor([0.]), torch.where(x > 0.5, -1., 1.) * logits), dim=1)\n",
    "\n",
    "def log_likelihood(decoder_net, latent, data): \n",
    "    mean = decoder_net(latent)\n",
    "    return bernoulli_logpdf(mean, data)\n",
    "\n",
    "def log_joint(decoder_net, latent, data): \n",
    "    return log_prior(latent) + log_likelihood(decoder_net, latent, data)\n",
    "\n",
    "# Run optimization\n",
    "optimizer = torch.optim.Adam([{'params': recognition_net.parameters()},\n",
    "                      {'params': decoder_net.parameters()}], lr=1e-2)\n",
    "n_iters = 5000\n",
    "minibatch_size = 200\n",
    "\n",
    "dataset = TensorDataset(torch.tensor(train_images), )\n",
    "dataloader = DataLoader(dataset, batch_size=minibatch_size, shuffle=True)\n",
    "\n",
    "def objective(recognition_net, decoder_net):  # The loss function to be minimized.  \n",
    "    minibatch = next(iter(dataloader))[0]\n",
    "    return -batch_elbo(\n",
    "    recognition_net,\n",
    "    decoder_net,\n",
    "    log_joint,\n",
    "    minibatch)\n",
    "\n",
    "def callback(t):\n",
    "    if t % 100 == 0:\n",
    "        print(\"Iteration {} lower bound {}\".format(t, -objective(recognition_net, decoder_net)))\n",
    "\n",
    "def update():\n",
    "    optimizer.zero_grad()\n",
    "    loss = objective(recognition_net, decoder_net)\n",
    "    loss.backward()\n",
    "    optimizer.step()\n",
    "\n",
    "# Main loop.\n",
    "print(\"Optimizing variational parameters...\")\n",
    "for t in trange(0, n_iters):\n",
    "    update()\n",
    "    callback(t)\n",
    "\n",
    "callback(n_iters)"
   ]
  },
  {
   "cell_type": "code",
   "execution_count": 8,
   "metadata": {},
   "outputs": [
    {
     "name": "stdout",
     "output_type": "stream",
     "text": [
      "torch.Size([25, 20])\n"
     ]
    },
    {
     "data": {
      "image/png": "[encoded data removed]",
      "text/plain": [
       "<Figure size 640x480 with 1 Axes>"
      ]
     },
     "metadata": {},
     "output_type": "display_data"
    }
   ],
   "source": [
    "# Sample data from the trained generative model to see if it\n",
    "# roughly matches the data.\n",
    "\n",
    "def sigmoid(x):\n",
    "  # Maps logits to probabilities.\n",
    "  return 0.5 * (torch.tanh(x) + 1.0)\n",
    "\n",
    "sampled_zs = diag_gaussian_samples(torch.zeros(latent_dimension), torch.ones(latent_dimension), 25)\n",
    "print(sampled_zs.size())\n",
    "bernoulli_means = sigmoid(decoder_net(sampled_zs).detach())\n",
    "plot_images(bernoulli_means)"
   ]
  },
  {
   "cell_type": "code",
   "execution_count": 10,
   "metadata": {},
   "outputs": [
    {
     "data": {
      "image/png": "[encoded data removed]",
      "text/plain": [
       "<Figure size 640x480 with 1 Axes>"
      ]
     },
     "metadata": {},
     "output_type": "display_data"
    }
   ],
   "source": [
    "# interpolation between latent spaces of two images\n",
    "def plot_interp(ix1, ix2):\n",
    "    left_z = recognition_net(torch.tensor(train_images[ix1, :]).to(torch.float32))[0].detach()\n",
    "    right_z = recognition_net(torch.tensor(train_images[ix2, :]).to(torch.float32))[0].detach()\n",
    "    interp_zs = right_z + torch.linspace(0.0, 1.0, 10)[:, None] * (left_z - right_z)\n",
    "    bernoulli_means = sigmoid(decoder_net(interp_zs).detach())\n",
    "    plot_images(bernoulli_means)\n",
    "\n",
    "plot_interp(3, 11)"
   ]
  }
 ],
 "metadata": {
  "kernelspec": {
   "display_name": "base",
   "language": "python",
   "name": "python3"
  },
  "language_info": {
   "codemirror_mode": {
    "name": "ipython",
    "version": 3
   },
   "file_extension": ".py",
   "mimetype": "text/x-python",
   "name": "python",
   "nbconvert_exporter": "python",
   "pygments_lexer": "ipython3",
   "version": "3.10.9"
  },
  "orig_nbformat": 4
 },
 "nbformat": 4,
 "nbformat_minor": 2
}
